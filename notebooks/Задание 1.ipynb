{
 "cells": [
  {
   "cell_type": "code",
   "execution_count": 2,
   "metadata": {},
   "outputs": [
    {
     "name": "stdout",
     "output_type": "stream",
     "text": [
      "Введите данные для первого списка:\n",
      "12345\n",
      "Введите данные для второго списка:\n",
      "23678\n",
      "Количество одинаковых чисел:  2\n"
     ]
    }
   ],
   "source": [
    "print(\"Введите данные для первого списка:\");\n",
    "first=input();\n",
    "print(\"Введите данные для второго списка:\");\n",
    "second=input();\n",
    "c = list(set(first) & set(second));\n",
    "print(\"Количество одинаковых чисел: \" , len(c));"
   ]
  },
  {
   "cell_type": "code",
   "execution_count": null,
   "metadata": {},
   "outputs": [],
   "source": []
  }
 ],
 "metadata": {
  "kernelspec": {
   "display_name": "Python 3",
   "language": "python",
   "name": "python3"
  },
  "language_info": {
   "codemirror_mode": {
    "name": "ipython",
    "version": 3
   },
   "file_extension": ".py",
   "mimetype": "text/x-python",
   "name": "python",
   "nbconvert_exporter": "python",
   "pygments_lexer": "ipython3",
   "version": "3.8.5"
  }
 },
 "nbformat": 4,
 "nbformat_minor": 4
}
