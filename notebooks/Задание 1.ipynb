{
 "cells": [
  {
   "cell_type": "code",
   "execution_count": 1,
   "metadata": {},
   "outputs": [
    {
     "name": "stdout",
     "output_type": "stream",
     "text": [
      "Введите данные для первого списка:\n",
      "ф\n",
      "Введите данные для второго списка:\n",
      "вавав\n",
      "Длина первого списка =  1\n",
      "Длина второго списка =  5\n"
     ]
    }
   ],
   "source": [
    "print(\"Введите данные для первого списка:\");\n",
    "first=input();\n",
    "print(\"Введите данные для второго списка:\");\n",
    "second=input();\n",
    "print(\"Длина первого списка = \" , len(list(first)));\n",
    "print(\"Длина второго списка = \" , len(list(second)));"
   ]
  },
  {
   "cell_type": "code",
   "execution_count": null,
   "metadata": {},
   "outputs": [],
   "source": []
  }
 ],
 "metadata": {
  "kernelspec": {
   "display_name": "Python 3",
   "language": "python",
   "name": "python3"
  },
  "language_info": {
   "codemirror_mode": {
    "name": "ipython",
    "version": 3
   },
   "file_extension": ".py",
   "mimetype": "text/x-python",
   "name": "python",
   "nbconvert_exporter": "python",
   "pygments_lexer": "ipython3",
   "version": "3.8.5"
  }
 },
 "nbformat": 4,
 "nbformat_minor": 4
}
