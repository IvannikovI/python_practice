{
 "cells": [
  {
   "cell_type": "code",
   "execution_count": 47,
   "metadata": {
    "scrolled": true
   },
   "outputs": [
    {
     "name": "stdout",
     "output_type": "stream",
     "text": [
      "2.5\n"
     ]
    }
   ],
   "source": [
    "import random\n",
    "        \n",
    "class Weapon:\n",
    "    def __init__(self, name):\n",
    "        self.name = name\n",
    "    def getDamage(self):\n",
    "        print(\"Метод не реализован\")\n",
    "    def attack(self):\n",
    "        print(\"Метод не реализован\")\n",
    "        \n",
    "class Sword(Weapon):\n",
    "    def __init__(self, name, durability, atk):\n",
    "        self.name = name\n",
    "    def getDamage(self):\n",
    "        print(\"Метод не реализован\")\n",
    "    def attack(self):\n",
    "        print(\"Метод не реализован\")\n",
    "        \n",
    "class Bow(Weapon):\n",
    "    def __init__(self, name, atk, hit):\n",
    "        self.name = name\n",
    "        self.atk = atk\n",
    "        self.hit = hit\n",
    "        self.damage = self.atk * self.hit\n",
    "    def showDamage(self):\n",
    "        print (self.damage)\n",
    "    def attack(self):\n",
    "        if (random.random() < self.hit):\n",
    "            return (self.damage)\n",
    "        else:\n",
    "            return (0)\n",
    "        \n",
    "def hit(w1, w2):\n",
    "    w2.health -= w1.power\n",
    "    print(w1.name, w1.health,\"ударил\", w2.name, w2.health)\n",
    "\n",
    "bow = Bow(\"Bow\", 5,0.5)\n",
    "\n",
    "print(bow.attack())"
   ]
  },
  {
   "cell_type": "code",
   "execution_count": 41,
   "metadata": {},
   "outputs": [
    {
     "ename": "SyntaxError",
     "evalue": "invalid syntax (<ipython-input-41-3a47ed407883>, line 1)",
     "output_type": "error",
     "traceback": [
      "\u001b[1;36m  File \u001b[1;32m\"<ipython-input-41-3a47ed407883>\"\u001b[1;36m, line \u001b[1;32m1\u001b[0m\n\u001b[1;33m    Требуется реализовать базовый класс \"Оружие\". У него будет имя, метод для получения значения возможного урона и метод для проведения атаки. Если вызвать эти методы у объектов этого класса, то должно появиться исключение с сообщением о том, что метод не реализован.\u001b[0m\n\u001b[1;37m              ^\u001b[0m\n\u001b[1;31mSyntaxError\u001b[0m\u001b[1;31m:\u001b[0m invalid syntax\n"
     ]
    }
   ],
   "source": [
    "Требуется реализовать базовый класс \"Оружие\". У него будет имя, метод для получения значения возможного урона и метод для проведения атаки. Если вызвать эти методы у объектов этого класса, то должно появиться исключение с сообщением о том, что метод не реализован. \n",
    "\n",
    "На основе него создаются два класса: \"Лук\" и \"Меч\". \n",
    "\n",
    "У лука есть показатель шанса попадания и значение урона. Значение возможного урона считается как произведение шанса попадания и урона. А метод для проведения атаки генерирует урон равный значению урона с шансом попадания. \n",
    "\n",
    "С мечом интереснее. Он может стачиваться. У него есть показатель атаки и целости. Меч изначально цел, значение этого показателя равно 1.\n",
    "\n",
    "С каждой атакой меч теряет 10% от текущего уровня целости с шансом 50%.\n",
    "\n",
    "А значение атаки рассчитывается как произведение атаки и целости."
   ]
  },
  {
   "cell_type": "code",
   "execution_count": null,
   "metadata": {},
   "outputs": [],
   "source": []
  }
 ],
 "metadata": {
  "kernelspec": {
   "display_name": "Python 3",
   "language": "python",
   "name": "python3"
  },
  "language_info": {
   "codemirror_mode": {
    "name": "ipython",
    "version": 3
   },
   "file_extension": ".py",
   "mimetype": "text/x-python",
   "name": "python",
   "nbconvert_exporter": "python",
   "pygments_lexer": "ipython3",
   "version": "3.8.5"
  }
 },
 "nbformat": 4,
 "nbformat_minor": 4
}
