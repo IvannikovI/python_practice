{
 "cells": [
  {
   "cell_type": "code",
   "execution_count": 13,
   "metadata": {
    "scrolled": true
   },
   "outputs": [
    {
     "name": "stdout",
     "output_type": "stream",
     "text": [
      "Bow:  0\n",
      "Bow:  2.5\n",
      "Bow:  2.5\n",
      "Bow:  0\n",
      "Bow:  0\n",
      "Sword:  4.5\n",
      "Sword:  4.0\n",
      "Sword:  3.5000000000000004\n",
      "Sword:  3.0000000000000004\n",
      "Sword:  2.5000000000000004\n"
     ]
    }
   ],
   "source": [
    "import random\n",
    "        \n",
    "class Weapon:\n",
    "    def __init__(self, name):\n",
    "        self.name = name\n",
    "    def getDamage(self):\n",
    "        print(\"Метод не реализован\")\n",
    "    def attack(self):\n",
    "        print(\"Метод не реализован\")\n",
    "        \n",
    "class Sword(Weapon):\n",
    "    durability = 1\n",
    "    def __init__(self, name, atk):\n",
    "        self.name = name\n",
    "        self.atk = atk\n",
    "    def getDamage(self):\n",
    "        print(self.atk * self.durability)\n",
    "    def attack(self):\n",
    "        if (random.random() < 0.5):\n",
    "            self.durability = self.durability - 0.1\n",
    "            return (self.atk * self.durability)\n",
    "        else:\n",
    "            return (self.atk * self.durability)\n",
    "        \n",
    "class Bow(Weapon):\n",
    "    def __init__(self, name, atk, hit):\n",
    "        self.name = name\n",
    "        self.atk = atk\n",
    "        self.hit = hit\n",
    "        self.damage = self.atk * self.hit\n",
    "    def showDamage(self):\n",
    "        print (self.damage)\n",
    "    def attack(self):\n",
    "        if (random.random() < self.hit):\n",
    "            return (self.damage)\n",
    "        else:\n",
    "            return (0)\n",
    "        \n",
    "def hit(w1, w2):\n",
    "    w2.health -= w1.power\n",
    "    print(w1.name, w1.health,\"ударил\", w2.name, w2.health)\n",
    "\n",
    "bow = Bow(\"Bow\", 5,0.5)\n",
    "sword = Sword(\"Sword\", 5)\n",
    "\n",
    "for i in range(5):\n",
    "    print(\"Bow: \", bow.attack())\n",
    "for i in range(5):\n",
    "    print(\"Sword: \", sword.attack())"
   ]
  },
  {
   "cell_type": "code",
   "execution_count": null,
   "metadata": {},
   "outputs": [],
   "source": []
  },
  {
   "cell_type": "code",
   "execution_count": null,
   "metadata": {},
   "outputs": [],
   "source": []
  }
 ],
 "metadata": {
  "kernelspec": {
   "display_name": "Python 3",
   "language": "python",
   "name": "python3"
  },
  "language_info": {
   "codemirror_mode": {
    "name": "ipython",
    "version": 3
   },
   "file_extension": ".py",
   "mimetype": "text/x-python",
   "name": "python",
   "nbconvert_exporter": "python",
   "pygments_lexer": "ipython3",
   "version": "3.8.5"
  }
 },
 "nbformat": 4,
 "nbformat_minor": 4
}
