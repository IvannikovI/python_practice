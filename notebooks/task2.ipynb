{
 "cells": [
  {
   "cell_type": "code",
   "execution_count": 22,
   "metadata": {},
   "outputs": [
    {
     "name": "stdout",
     "output_type": "stream",
     "text": [
      "Valhalla, Разбойник is coming\n",
      "Воин 100 25\n",
      "Варвар 120 22\n",
      "Разбойник 140 20\n",
      "Valhalla, Воин is coming\n",
      "Valhalla, Варвар is coming\n",
      "Воин 100 ударил Варвар 95\n",
      "Варвар 95 ударил Разбойник 118\n",
      "Разбойник 118 ударил Варвар 75\n",
      "Варвар 75 ударил Воин 78\n",
      "Воин 78 ударил Разбойник 93\n",
      "Разбойник 93 ударил Воин 58\n",
      "Разбойник 93 ударил Воин 38\n",
      "Воин 38 ударил Разбойник 68\n",
      "Варвар 75 ударил Воин 16\n",
      "Воин 16 ударил Варвар 50\n",
      "Разбойник 68 ударил Варвар 30\n",
      "Воин 16 ударил Разбойник 43\n",
      "Воин 16 ударил Разбойник 18\n",
      "Воин 16 ударил Разбойник -7\n",
      "Варвар 30 ударил Воин -6\n"
     ]
    }
   ],
   "source": [
    "import random\n",
    "\n",
    "class Warrior:\n",
    "    def __init__(self, name, power=20, health=100):\n",
    "        self.health = health\n",
    "        self.name = name\n",
    "        self.power = power\n",
    "    def __del__(self):\n",
    "        print(\"Valhalla,\", self.name, \"is coming\")\n",
    "    def info(self):\n",
    "        print(self.name, self.health, self.power)\n",
    "        \n",
    "def hit(w1, w2):\n",
    "    w2.health -= w1.power\n",
    "    print(w1.name, w1.health,\"ударил\", w2.name, w2.health)\n",
    "    \n",
    "w1 = Warrior(\"Воин\", 25)\n",
    "w2 = Warrior(\"Варвар\",22, 120)\n",
    "w3 = Warrior(\"Разбойник\", health=140)\n",
    "\n",
    "w1.info()\n",
    "w2.info()\n",
    "w3.info()\n",
    "\n",
    "warriors = [w1, w2, w3]\n",
    "while (len(warriors) > 1):\n",
    "    sampled_list = random.sample(warriors, 2)\n",
    "    battler1 = sampled_list[0]\n",
    "    battler2 = sampled_list[1]\n",
    "    hit(battler1, battler2)\n",
    "    if(battler2.health <= 0):\n",
    "        warriors.remove(battler2)\n",
    "        del battler2\n",
    "        \n",
    "\n"
   ]
  },
  {
   "cell_type": "code",
   "execution_count": null,
   "metadata": {},
   "outputs": [],
   "source": []
  }
 ],
 "metadata": {
  "kernelspec": {
   "display_name": "Python 3",
   "language": "python",
   "name": "python3"
  },
  "language_info": {
   "codemirror_mode": {
    "name": "ipython",
    "version": 3
   },
   "file_extension": ".py",
   "mimetype": "text/x-python",
   "name": "python",
   "nbconvert_exporter": "python",
   "pygments_lexer": "ipython3",
   "version": "3.8.5"
  }
 },
 "nbformat": 4,
 "nbformat_minor": 4
}
