{
 "cells": [
  {
   "cell_type": "code",
   "execution_count": null,
   "metadata": {},
   "outputs": [],
   "source": []
  },
  {
   "cell_type": "code",
   "execution_count": 9,
   "metadata": {},
   "outputs": [
    {
     "name": "stdout",
     "output_type": "stream",
     "text": [
      "Варвар 100 ударил Разбойник 80\n",
      "Воин 100 ударил Варвар 80\n",
      "Воин 100 ударил Разбойник 60\n",
      "Воин 100 ударил Варвар 60\n",
      "Разбойник 60 ударил Воин 80\n",
      "Варвар 60 ударил Разбойник 40\n",
      "Разбойник 40 ударил Варвар 40\n",
      "Воин 80 ударил Варвар 20\n",
      "Варвар 20 ударил Разбойник 20\n",
      "Варвар 20 ударил Разбойник 0\n",
      "Воин 80 ударил Варвар 0\n"
     ]
    }
   ],
   "source": [
    "import random\n",
    "\n",
    "class Warrior:\n",
    "    def __init__(self, name):\n",
    "        self.health = 100\n",
    "        self.name = name\n",
    " \n",
    "def hit(w1, w2):\n",
    "    w2.health -= 20\n",
    "    print(w1.name, w1.health,\"ударил\", w2.name, w2.health)\n",
    "    \n",
    "w1 = Warrior(\"Воин\")\n",
    "w2 = Warrior(\"Варвар\")\n",
    "w3 = Warrior(\"Разбойник\")\n",
    "\n",
    "warriors = [w1, w2, w3]\n",
    "while (len(warriors) > 1):\n",
    "    sampled_list = random.sample(warriors, 2)\n",
    "    battler1 = sampled_list[0]\n",
    "    battler2 = sampled_list[1]\n",
    "    hit(battler1, battler2)\n",
    "    if(battler2.health <= 0):\n",
    "        warriors.remove(battler2)\n",
    "\n",
    "\n",
    "    \n",
    "        "
   ]
  },
  {
   "cell_type": "code",
   "execution_count": null,
   "metadata": {},
   "outputs": [],
   "source": []
  }
 ],
 "metadata": {
  "kernelspec": {
   "display_name": "Python 3",
   "language": "python",
   "name": "python3"
  },
  "language_info": {
   "codemirror_mode": {
    "name": "ipython",
    "version": 3
   },
   "file_extension": ".py",
   "mimetype": "text/x-python",
   "name": "python",
   "nbconvert_exporter": "python",
   "pygments_lexer": "ipython3",
   "version": "3.8.5"
  }
 },
 "nbformat": 4,
 "nbformat_minor": 4
}
